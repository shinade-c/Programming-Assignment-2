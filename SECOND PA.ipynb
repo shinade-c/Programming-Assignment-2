{
 "cells": [
  {
   "cell_type": "markdown",
   "id": "49d0107f-814b-4e97-b30b-4a450a0d3950",
   "metadata": {},
   "source": [
    "PROBLEM 1: NORMALIZATION PROBLEM"
   ]
  },
  {
   "cell_type": "code",
   "execution_count": 1,
   "id": "d4c4cb06-cbd9-4eed-bc46-9367f109954c",
   "metadata": {},
   "outputs": [],
   "source": [
    "import numpy as np"
   ]
  },
  {
   "cell_type": "code",
   "execution_count": 13,
   "id": "4980ab2a-f2cf-4976-bb86-1083dec5018a",
   "metadata": {},
   "outputs": [
    {
     "name": "stdout",
     "output_type": "stream",
     "text": [
      "Original Array X:\n",
      "[[0.70020741 0.02793172 0.50197027 0.84207143 0.03579843]\n",
      " [0.9291276  0.59851951 0.85091472 0.67592551 0.92925843]\n",
      " [0.21202938 0.09490702 0.24088882 0.60310659 0.82338665]\n",
      " [0.78243029 0.65737754 0.8725034  0.30238185 0.0823218 ]\n",
      " [0.57912978 0.67982122 0.64128318 0.09187167 0.72900689]]\n"
     ]
    }
   ],
   "source": [
    "#Create a 5x5 array\n",
    "\n",
    "X = np.random.rand(5, 5)\n",
    "print(\"Original Array X:\")\n",
    "print(X)"
   ]
  },
  {
   "cell_type": "code",
   "execution_count": 3,
   "id": "bdb71a43-4a46-4935-8bf3-c938be6af9c5",
   "metadata": {},
   "outputs": [
    {
     "name": "stdout",
     "output_type": "stream",
     "text": [
      "Mean:  0.5167406339285227\n",
      "Standard Deviation:  0.2979187735764119\n"
     ]
    }
   ],
   "source": [
    "#Calculate the mean and standard deviation\n",
    "\n",
    "mean = X.mean()\n",
    "std = X.std()\n",
    "print(\"Mean: \", mean)\n",
    "print(\"Standard Deviation: \", std)"
   ]
  },
  {
   "cell_type": "code",
   "execution_count": 14,
   "id": "9bc42f54-a076-43b4-ad9f-0190c50e913f",
   "metadata": {},
   "outputs": [
    {
     "name": "stdout",
     "output_type": "stream",
     "text": [
      "Normalized Array:\n",
      "[[ 0.61582817 -1.64074558 -0.04957851  1.09201172 -1.61434005]\n",
      " [ 1.38422619  0.27450058  1.12169529  0.53432309  1.38466532]\n",
      " [-1.02279977 -1.41593498 -0.9259296   0.28989766  1.02929402]\n",
      " [ 0.89181911  0.47206459  1.19416029 -0.71952091 -1.45817877]\n",
      " [ 0.20941662  0.54739949  0.41804197 -1.42612352  0.71249708]]\n"
     ]
    }
   ],
   "source": [
    "#Normalize the array using the formula\n",
    "\n",
    "X_normalized = (X - mean) / std\n",
    "print(\"Normalized Array:\")\n",
    "print(X_normalized)"
   ]
  },
  {
   "cell_type": "code",
   "execution_count": 7,
   "id": "89e5c231-bee7-48f0-abbc-9372f6ed0ef3",
   "metadata": {},
   "outputs": [],
   "source": [
    "#Save the normalized array to a .npy file\n",
    "\n",
    "np.save(\"X_normalized.npy\", X_normalized)"
   ]
  },
  {
   "cell_type": "code",
   "execution_count": 15,
   "id": "f2c32a6f-d64f-4454-ad95-035305761d12",
   "metadata": {},
   "outputs": [
    {
     "name": "stdout",
     "output_type": "stream",
     "text": [
      "Loaded Normalized Array:\n",
      "[[-0.32037243 -1.39046613 -1.09642214  1.52280003 -0.98395064]\n",
      " [ 0.51167473 -1.44937798  1.02502841 -1.39400174  0.0794821 ]\n",
      " [ 1.48998307 -1.41988685  0.85097228  0.49555445  1.09738007]\n",
      " [ 0.88204591 -0.48653732  0.49635297 -0.56300203  0.36069099]\n",
      " [-0.21729213 -0.79237309  1.47976635 -1.11691247  0.93886358]]\n"
     ]
    }
   ],
   "source": [
    "# Load back to the file to confirm if it was saved \n",
    "\n",
    "loaded_array = np.load(\"X_normalized.npy\")\n",
    "print(\"Loaded Normalized Array:\")\n",
    "print(loaded_array)"
   ]
  },
  {
   "cell_type": "markdown",
   "id": "47f50c1a-246d-48f9-9c4a-489d9b784360",
   "metadata": {},
   "source": [
    "Problem 2: DIVISIBLE BY 3"
   ]
  },
  {
   "cell_type": "code",
   "execution_count": 16,
   "id": "2021aeb1-d993-43be-a377-2cdd904e514e",
   "metadata": {},
   "outputs": [],
   "source": [
    "import numpy as np"
   ]
  },
  {
   "cell_type": "code",
   "execution_count": 17,
   "id": "e2233cac-eb3f-48a2-b47d-5c82bc39fdbf",
   "metadata": {},
   "outputs": [],
   "source": [
    "# Create a 10x10 ndarray with the squares of the first 100 positive int\n",
    "\n",
    "A = np.arange(1, 101) ** 2 # squares of numbers 1-100\n",
    "A = A.reshape(10, 10)      # reshape into a 10x10 array"
   ]
  },
  {
   "cell_type": "code",
   "execution_count": 19,
   "id": "6b68ec7d-2960-434f-aca9-6e888588687b",
   "metadata": {},
   "outputs": [
    {
     "name": "stdout",
     "output_type": "stream",
     "text": [
      "10x10 Array A:\n",
      "[[    1     4     9    16    25    36    49    64    81   100]\n",
      " [  121   144   169   196   225   256   289   324   361   400]\n",
      " [  441   484   529   576   625   676   729   784   841   900]\n",
      " [  961  1024  1089  1156  1225  1296  1369  1444  1521  1600]\n",
      " [ 1681  1764  1849  1936  2025  2116  2209  2304  2401  2500]\n",
      " [ 2601  2704  2809  2916  3025  3136  3249  3364  3481  3600]\n",
      " [ 3721  3844  3969  4096  4225  4356  4489  4624  4761  4900]\n",
      " [ 5041  5184  5329  5476  5625  5776  5929  6084  6241  6400]\n",
      " [ 6561  6724  6889  7056  7225  7396  7569  7744  7921  8100]\n",
      " [ 8281  8464  8649  8836  9025  9216  9409  9604  9801 10000]]\n"
     ]
    }
   ],
   "source": [
    "print(\"10x10 Array A:\")\n",
    "print(A)"
   ]
  },
  {
   "cell_type": "code",
   "execution_count": 20,
   "id": "271eb7d3-8620-40d7-939c-17a3b40e117d",
   "metadata": {},
   "outputs": [],
   "source": [
    "# Find all elements divisible by 3\n",
    "\n",
    "div_by_3 = A[A % 3 == 0]"
   ]
  },
  {
   "cell_type": "code",
   "execution_count": 21,
   "id": "eeeb0f6f-d6e5-4fee-b2e4-21f4fcdbe848",
   "metadata": {},
   "outputs": [
    {
     "name": "stdout",
     "output_type": "stream",
     "text": [
      "Elements Divisible by 3:\n",
      "[   9   36   81  144  225  324  441  576  729  900 1089 1296 1521 1764\n",
      " 2025 2304 2601 2916 3249 3600 3969 4356 4761 5184 5625 6084 6561 7056\n",
      " 7569 8100 8649 9216 9801]\n"
     ]
    }
   ],
   "source": [
    "print(\"Elements Divisible by 3:\")\n",
    "print(div_by_3)"
   ]
  },
  {
   "cell_type": "code",
   "execution_count": 22,
   "id": "3d2700fa-f4f3-4a86-96cb-0f5640efe22e",
   "metadata": {},
   "outputs": [],
   "source": [
    "# Save the result into a .npy file\n",
    "\n",
    "np.save(\"div_by_3.npy\", div_by_3)"
   ]
  },
  {
   "cell_type": "code",
   "execution_count": 23,
   "id": "5b6ee0db-4788-41fa-a2dc-864a8979b7d8",
   "metadata": {},
   "outputs": [],
   "source": [
    "# load back the file to verify\n",
    "\n",
    "loaded = np.load(\"div_by_3.npy\")"
   ]
  },
  {
   "cell_type": "code",
   "execution_count": 24,
   "id": "4ad80109-778b-4568-a014-a9d02cec7fc8",
   "metadata": {},
   "outputs": [
    {
     "name": "stdout",
     "output_type": "stream",
     "text": [
      "Loaded Elements Divisible by 3:\n",
      "[   9   36   81  144  225  324  441  576  729  900 1089 1296 1521 1764\n",
      " 2025 2304 2601 2916 3249 3600 3969 4356 4761 5184 5625 6084 6561 7056\n",
      " 7569 8100 8649 9216 9801]\n"
     ]
    }
   ],
   "source": [
    "print(\"Loaded Elements Divisible by 3:\")\n",
    "print(loaded)"
   ]
  },
  {
   "cell_type": "code",
   "execution_count": null,
   "id": "46d6198e-26f1-4a56-9653-b1afb62b8cd3",
   "metadata": {},
   "outputs": [],
   "source": []
  }
 ],
 "metadata": {
  "kernelspec": {
   "display_name": "Python [conda env:base] *",
   "language": "python",
   "name": "conda-base-py"
  },
  "language_info": {
   "codemirror_mode": {
    "name": "ipython",
    "version": 3
   },
   "file_extension": ".py",
   "mimetype": "text/x-python",
   "name": "python",
   "nbconvert_exporter": "python",
   "pygments_lexer": "ipython3",
   "version": "3.13.5"
  }
 },
 "nbformat": 4,
 "nbformat_minor": 5
}
